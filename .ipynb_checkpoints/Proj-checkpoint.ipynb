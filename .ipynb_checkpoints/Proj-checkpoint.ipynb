{
 "cells": [
  {
   "cell_type": "code",
   "execution_count": 445,
   "id": "4fde83d1",
   "metadata": {
    "pycharm": {
     "name": "#%%\n"
    }
   },
   "outputs": [],
   "source": [
    "import pandas as pd\n",
    "\n",
    "dataset = pd.read_csv(\"COVID-19_Survey_Student_Responses.csv\")"
   ]
  },
  {
   "cell_type": "code",
   "execution_count": 446,
   "id": "bc7f9421",
   "metadata": {
    "pycharm": {
     "name": "#%%\n"
    }
   },
   "outputs": [
    {
     "data": {
      "text/html": [
       "<div>\n",
       "<style scoped>\n",
       "    .dataframe tbody tr th:only-of-type {\n",
       "        vertical-align: middle;\n",
       "    }\n",
       "\n",
       "    .dataframe tbody tr th {\n",
       "        vertical-align: top;\n",
       "    }\n",
       "\n",
       "    .dataframe thead th {\n",
       "        text-align: right;\n",
       "    }\n",
       "</style>\n",
       "<table border=\"1\" class=\"dataframe\">\n",
       "  <thead>\n",
       "    <tr style=\"text-align: right;\">\n",
       "      <th></th>\n",
       "      <th>ID</th>\n",
       "      <th>Region of residence</th>\n",
       "      <th>Age of Subject</th>\n",
       "      <th>Time spent on Online Class</th>\n",
       "      <th>Rating of Online Class experience</th>\n",
       "      <th>Medium for online class</th>\n",
       "      <th>Time spent on self study</th>\n",
       "      <th>Time spent on fitness</th>\n",
       "      <th>Time spent on sleep</th>\n",
       "      <th>Time spent on social media</th>\n",
       "      <th>Prefered social media platform</th>\n",
       "      <th>Time spent on TV</th>\n",
       "      <th>Number of meals per day</th>\n",
       "      <th>Change in your weight</th>\n",
       "      <th>Health issue during lockdown</th>\n",
       "      <th>Stress busters</th>\n",
       "      <th>Time utilized</th>\n",
       "      <th>Do you find yourself more connected with your family, close friends , relatives  ?</th>\n",
       "      <th>What you miss the most</th>\n",
       "    </tr>\n",
       "  </thead>\n",
       "  <tbody>\n",
       "    <tr>\n",
       "      <th>0</th>\n",
       "      <td>R1</td>\n",
       "      <td>Delhi-NCR</td>\n",
       "      <td>21</td>\n",
       "      <td>2.0</td>\n",
       "      <td>Good</td>\n",
       "      <td>Laptop/Desktop</td>\n",
       "      <td>4.0</td>\n",
       "      <td>0.0</td>\n",
       "      <td>7.0</td>\n",
       "      <td>3.0</td>\n",
       "      <td>Linkedin</td>\n",
       "      <td>1</td>\n",
       "      <td>4</td>\n",
       "      <td>Increased</td>\n",
       "      <td>NO</td>\n",
       "      <td>Cooking</td>\n",
       "      <td>YES</td>\n",
       "      <td>YES</td>\n",
       "      <td>School/college</td>\n",
       "    </tr>\n",
       "    <tr>\n",
       "      <th>1</th>\n",
       "      <td>R2</td>\n",
       "      <td>Delhi-NCR</td>\n",
       "      <td>21</td>\n",
       "      <td>0.0</td>\n",
       "      <td>Excellent</td>\n",
       "      <td>Smartphone</td>\n",
       "      <td>0.0</td>\n",
       "      <td>2.0</td>\n",
       "      <td>10.0</td>\n",
       "      <td>3.0</td>\n",
       "      <td>Youtube</td>\n",
       "      <td>0</td>\n",
       "      <td>3</td>\n",
       "      <td>Decreased</td>\n",
       "      <td>NO</td>\n",
       "      <td>Scrolling through social media</td>\n",
       "      <td>YES</td>\n",
       "      <td>NO</td>\n",
       "      <td>Roaming around freely</td>\n",
       "    </tr>\n",
       "    <tr>\n",
       "      <th>2</th>\n",
       "      <td>R3</td>\n",
       "      <td>Delhi-NCR</td>\n",
       "      <td>20</td>\n",
       "      <td>7.0</td>\n",
       "      <td>Very poor</td>\n",
       "      <td>Laptop/Desktop</td>\n",
       "      <td>3.0</td>\n",
       "      <td>0.0</td>\n",
       "      <td>6.0</td>\n",
       "      <td>2.0</td>\n",
       "      <td>Linkedin</td>\n",
       "      <td>0</td>\n",
       "      <td>3</td>\n",
       "      <td>Remain Constant</td>\n",
       "      <td>NO</td>\n",
       "      <td>Listening to music</td>\n",
       "      <td>NO</td>\n",
       "      <td>YES</td>\n",
       "      <td>Travelling</td>\n",
       "    </tr>\n",
       "    <tr>\n",
       "      <th>3</th>\n",
       "      <td>R4</td>\n",
       "      <td>Delhi-NCR</td>\n",
       "      <td>20</td>\n",
       "      <td>3.0</td>\n",
       "      <td>Very poor</td>\n",
       "      <td>Smartphone</td>\n",
       "      <td>2.0</td>\n",
       "      <td>1.0</td>\n",
       "      <td>6.0</td>\n",
       "      <td>5.0</td>\n",
       "      <td>Instagram</td>\n",
       "      <td>0</td>\n",
       "      <td>3</td>\n",
       "      <td>Decreased</td>\n",
       "      <td>NO</td>\n",
       "      <td>Watching web series</td>\n",
       "      <td>NO</td>\n",
       "      <td>NO</td>\n",
       "      <td>Friends , relatives</td>\n",
       "    </tr>\n",
       "    <tr>\n",
       "      <th>4</th>\n",
       "      <td>R5</td>\n",
       "      <td>Delhi-NCR</td>\n",
       "      <td>21</td>\n",
       "      <td>3.0</td>\n",
       "      <td>Good</td>\n",
       "      <td>Laptop/Desktop</td>\n",
       "      <td>3.0</td>\n",
       "      <td>1.0</td>\n",
       "      <td>8.0</td>\n",
       "      <td>3.0</td>\n",
       "      <td>Instagram</td>\n",
       "      <td>1</td>\n",
       "      <td>4</td>\n",
       "      <td>Remain Constant</td>\n",
       "      <td>NO</td>\n",
       "      <td>Social Media</td>\n",
       "      <td>NO</td>\n",
       "      <td>NO</td>\n",
       "      <td>Travelling</td>\n",
       "    </tr>\n",
       "    <tr>\n",
       "      <th>...</th>\n",
       "      <td>...</td>\n",
       "      <td>...</td>\n",
       "      <td>...</td>\n",
       "      <td>...</td>\n",
       "      <td>...</td>\n",
       "      <td>...</td>\n",
       "      <td>...</td>\n",
       "      <td>...</td>\n",
       "      <td>...</td>\n",
       "      <td>...</td>\n",
       "      <td>...</td>\n",
       "      <td>...</td>\n",
       "      <td>...</td>\n",
       "      <td>...</td>\n",
       "      <td>...</td>\n",
       "      <td>...</td>\n",
       "      <td>...</td>\n",
       "      <td>...</td>\n",
       "      <td>...</td>\n",
       "    </tr>\n",
       "    <tr>\n",
       "      <th>1177</th>\n",
       "      <td>R1191</td>\n",
       "      <td>Delhi-NCR</td>\n",
       "      <td>12</td>\n",
       "      <td>3.0</td>\n",
       "      <td>Good</td>\n",
       "      <td>Smartphone</td>\n",
       "      <td>4.0</td>\n",
       "      <td>1.0</td>\n",
       "      <td>8.0</td>\n",
       "      <td>1.0</td>\n",
       "      <td>Instagram</td>\n",
       "      <td>2</td>\n",
       "      <td>3</td>\n",
       "      <td>Decreased</td>\n",
       "      <td>NO</td>\n",
       "      <td>Dancing</td>\n",
       "      <td>YES</td>\n",
       "      <td>YES</td>\n",
       "      <td>Travelling</td>\n",
       "    </tr>\n",
       "    <tr>\n",
       "      <th>1178</th>\n",
       "      <td>R1192</td>\n",
       "      <td>Delhi-NCR</td>\n",
       "      <td>14</td>\n",
       "      <td>6.0</td>\n",
       "      <td>Average</td>\n",
       "      <td>Smartphone</td>\n",
       "      <td>4.0</td>\n",
       "      <td>1.0</td>\n",
       "      <td>9.0</td>\n",
       "      <td>1.0</td>\n",
       "      <td>Whatsapp</td>\n",
       "      <td>1</td>\n",
       "      <td>4</td>\n",
       "      <td>Remain Constant</td>\n",
       "      <td>NO</td>\n",
       "      <td>Listening to music</td>\n",
       "      <td>YES</td>\n",
       "      <td>YES</td>\n",
       "      <td>Friends , relatives</td>\n",
       "    </tr>\n",
       "    <tr>\n",
       "      <th>1179</th>\n",
       "      <td>R1193</td>\n",
       "      <td>Delhi-NCR</td>\n",
       "      <td>13</td>\n",
       "      <td>4.0</td>\n",
       "      <td>Average</td>\n",
       "      <td>Smartphone</td>\n",
       "      <td>0.0</td>\n",
       "      <td>0.5</td>\n",
       "      <td>8.0</td>\n",
       "      <td>3.0</td>\n",
       "      <td>Youtube</td>\n",
       "      <td>2</td>\n",
       "      <td>4</td>\n",
       "      <td>Decreased</td>\n",
       "      <td>NO</td>\n",
       "      <td>Online gaming</td>\n",
       "      <td>NO</td>\n",
       "      <td>YES</td>\n",
       "      <td>School/college</td>\n",
       "    </tr>\n",
       "    <tr>\n",
       "      <th>1180</th>\n",
       "      <td>R1194</td>\n",
       "      <td>Delhi-NCR</td>\n",
       "      <td>14</td>\n",
       "      <td>5.0</td>\n",
       "      <td>Excellent</td>\n",
       "      <td>Laptop/Desktop</td>\n",
       "      <td>3.5</td>\n",
       "      <td>1.0</td>\n",
       "      <td>8.0</td>\n",
       "      <td>0.5</td>\n",
       "      <td>Youtube</td>\n",
       "      <td>1</td>\n",
       "      <td>4</td>\n",
       "      <td>Remain Constant</td>\n",
       "      <td>NO</td>\n",
       "      <td>Reading books</td>\n",
       "      <td>YES</td>\n",
       "      <td>YES</td>\n",
       "      <td>School/college</td>\n",
       "    </tr>\n",
       "    <tr>\n",
       "      <th>1181</th>\n",
       "      <td>R1195</td>\n",
       "      <td>Delhi-NCR</td>\n",
       "      <td>13</td>\n",
       "      <td>5.0</td>\n",
       "      <td>Good</td>\n",
       "      <td>Tablet</td>\n",
       "      <td>2.0</td>\n",
       "      <td>0.5</td>\n",
       "      <td>7.0</td>\n",
       "      <td>1.0</td>\n",
       "      <td>Whatsapp</td>\n",
       "      <td>1</td>\n",
       "      <td>3</td>\n",
       "      <td>Remain Constant</td>\n",
       "      <td>NO</td>\n",
       "      <td>Talking</td>\n",
       "      <td>YES</td>\n",
       "      <td>YES</td>\n",
       "      <td>School/college</td>\n",
       "    </tr>\n",
       "  </tbody>\n",
       "</table>\n",
       "<p>1182 rows × 19 columns</p>\n",
       "</div>"
      ],
      "text/plain": [
       "         ID Region of residence  Age of Subject  Time spent on Online Class  \\\n",
       "0        R1           Delhi-NCR              21                         2.0   \n",
       "1        R2           Delhi-NCR              21                         0.0   \n",
       "2        R3           Delhi-NCR              20                         7.0   \n",
       "3        R4           Delhi-NCR              20                         3.0   \n",
       "4        R5           Delhi-NCR              21                         3.0   \n",
       "...     ...                 ...             ...                         ...   \n",
       "1177  R1191           Delhi-NCR              12                         3.0   \n",
       "1178  R1192           Delhi-NCR              14                         6.0   \n",
       "1179  R1193           Delhi-NCR              13                         4.0   \n",
       "1180  R1194           Delhi-NCR              14                         5.0   \n",
       "1181  R1195           Delhi-NCR              13                         5.0   \n",
       "\n",
       "     Rating of Online Class experience Medium for online class  \\\n",
       "0                                 Good          Laptop/Desktop   \n",
       "1                            Excellent              Smartphone   \n",
       "2                            Very poor          Laptop/Desktop   \n",
       "3                            Very poor              Smartphone   \n",
       "4                                 Good          Laptop/Desktop   \n",
       "...                                ...                     ...   \n",
       "1177                              Good              Smartphone   \n",
       "1178                           Average              Smartphone   \n",
       "1179                           Average              Smartphone   \n",
       "1180                         Excellent          Laptop/Desktop   \n",
       "1181                              Good                  Tablet   \n",
       "\n",
       "      Time spent on self study  Time spent on fitness  Time spent on sleep  \\\n",
       "0                          4.0                    0.0                  7.0   \n",
       "1                          0.0                    2.0                 10.0   \n",
       "2                          3.0                    0.0                  6.0   \n",
       "3                          2.0                    1.0                  6.0   \n",
       "4                          3.0                    1.0                  8.0   \n",
       "...                        ...                    ...                  ...   \n",
       "1177                       4.0                    1.0                  8.0   \n",
       "1178                       4.0                    1.0                  9.0   \n",
       "1179                       0.0                    0.5                  8.0   \n",
       "1180                       3.5                    1.0                  8.0   \n",
       "1181                       2.0                    0.5                  7.0   \n",
       "\n",
       "      Time spent on social media Prefered social media platform  \\\n",
       "0                            3.0                       Linkedin   \n",
       "1                            3.0                        Youtube   \n",
       "2                            2.0                       Linkedin   \n",
       "3                            5.0                      Instagram   \n",
       "4                            3.0                      Instagram   \n",
       "...                          ...                            ...   \n",
       "1177                         1.0                      Instagram   \n",
       "1178                         1.0                       Whatsapp   \n",
       "1179                         3.0                        Youtube   \n",
       "1180                         0.5                        Youtube   \n",
       "1181                         1.0                       Whatsapp   \n",
       "\n",
       "     Time spent on TV  Number of meals per day Change in your weight  \\\n",
       "0                   1                        4             Increased   \n",
       "1                   0                        3             Decreased   \n",
       "2                   0                        3       Remain Constant   \n",
       "3                   0                        3             Decreased   \n",
       "4                   1                        4       Remain Constant   \n",
       "...               ...                      ...                   ...   \n",
       "1177                2                        3             Decreased   \n",
       "1178                1                        4       Remain Constant   \n",
       "1179                2                        4             Decreased   \n",
       "1180                1                        4       Remain Constant   \n",
       "1181                1                        3       Remain Constant   \n",
       "\n",
       "     Health issue during lockdown                  Stress busters  \\\n",
       "0                              NO                         Cooking   \n",
       "1                              NO  Scrolling through social media   \n",
       "2                              NO              Listening to music   \n",
       "3                              NO             Watching web series   \n",
       "4                              NO                    Social Media   \n",
       "...                           ...                             ...   \n",
       "1177                           NO                         Dancing   \n",
       "1178                           NO              Listening to music   \n",
       "1179                           NO                   Online gaming   \n",
       "1180                           NO                   Reading books   \n",
       "1181                           NO                         Talking   \n",
       "\n",
       "     Time utilized  \\\n",
       "0              YES   \n",
       "1              YES   \n",
       "2               NO   \n",
       "3               NO   \n",
       "4               NO   \n",
       "...            ...   \n",
       "1177           YES   \n",
       "1178           YES   \n",
       "1179            NO   \n",
       "1180           YES   \n",
       "1181           YES   \n",
       "\n",
       "     Do you find yourself more connected with your family, close friends , relatives  ?  \\\n",
       "0                                                   YES                                   \n",
       "1                                                    NO                                   \n",
       "2                                                   YES                                   \n",
       "3                                                    NO                                   \n",
       "4                                                    NO                                   \n",
       "...                                                 ...                                   \n",
       "1177                                                YES                                   \n",
       "1178                                                YES                                   \n",
       "1179                                                YES                                   \n",
       "1180                                                YES                                   \n",
       "1181                                                YES                                   \n",
       "\n",
       "     What you miss the most  \n",
       "0            School/college  \n",
       "1     Roaming around freely  \n",
       "2                Travelling  \n",
       "3       Friends , relatives  \n",
       "4                Travelling  \n",
       "...                     ...  \n",
       "1177             Travelling  \n",
       "1178    Friends , relatives  \n",
       "1179         School/college  \n",
       "1180         School/college  \n",
       "1181         School/college  \n",
       "\n",
       "[1182 rows x 19 columns]"
      ]
     },
     "execution_count": 446,
     "metadata": {},
     "output_type": "execute_result"
    }
   ],
   "source": [
    "dataset"
   ]
  },
  {
   "cell_type": "code",
   "execution_count": 447,
   "id": "1584fb8a",
   "metadata": {
    "pycharm": {
     "name": "#%%\n"
    }
   },
   "outputs": [
    {
     "data": {
      "text/plain": [
       "<AxesSubplot:>"
      ]
     },
     "execution_count": 447,
     "metadata": {},
     "output_type": "execute_result"
    },
    {
     "data": {
      "image/png": "[encoded data removed]",
      "text/plain": [
       "<Figure size 1440x720 with 1 Axes>"
      ]
     },
     "metadata": {},
     "output_type": "display_data"
    }
   ],
   "source": [
    "dataset['Age of Subject'].value_counts().sort_index().plot(figsize=(20,10), kind='bar')"
   ]
  },
  {
   "cell_type": "code",
   "execution_count": 448,
   "id": "3387f3c8",
   "metadata": {
    "pycharm": {
     "name": "#%%\n"
    }
   },
   "outputs": [
    {
     "data": {
      "text/html": [
       "<div>\n",
       "<style scoped>\n",
       "    .dataframe tbody tr th:only-of-type {\n",
       "        vertical-align: middle;\n",
       "    }\n",
       "\n",
       "    .dataframe tbody tr th {\n",
       "        vertical-align: top;\n",
       "    }\n",
       "\n",
       "    .dataframe thead th {\n",
       "        text-align: right;\n",
       "    }\n",
       "</style>\n",
       "<table border=\"1\" class=\"dataframe\">\n",
       "  <thead>\n",
       "    <tr style=\"text-align: right;\">\n",
       "      <th></th>\n",
       "      <th>ID</th>\n",
       "      <th>Region of residence</th>\n",
       "      <th>Age of Subject</th>\n",
       "      <th>Time spent on Online Class</th>\n",
       "      <th>Rating of Online Class experience</th>\n",
       "      <th>Medium for online class</th>\n",
       "      <th>Time spent on self study</th>\n",
       "      <th>Time spent on fitness</th>\n",
       "      <th>Time spent on sleep</th>\n",
       "      <th>Time spent on social media</th>\n",
       "      <th>Prefered social media platform</th>\n",
       "      <th>Time spent on TV</th>\n",
       "      <th>Number of meals per day</th>\n",
       "      <th>Change in your weight</th>\n",
       "      <th>Health issue during lockdown</th>\n",
       "      <th>Stress busters</th>\n",
       "      <th>Time utilized</th>\n",
       "      <th>Do you find yourself more connected with your family, close friends , relatives  ?</th>\n",
       "      <th>What you miss the most</th>\n",
       "      <th>Age Category</th>\n",
       "    </tr>\n",
       "  </thead>\n",
       "  <tbody>\n",
       "    <tr>\n",
       "      <th>0</th>\n",
       "      <td>R1</td>\n",
       "      <td>Delhi-NCR</td>\n",
       "      <td>21</td>\n",
       "      <td>2.0</td>\n",
       "      <td>Good</td>\n",
       "      <td>Laptop/Desktop</td>\n",
       "      <td>4.0</td>\n",
       "      <td>0.0</td>\n",
       "      <td>7.0</td>\n",
       "      <td>3.0</td>\n",
       "      <td>Linkedin</td>\n",
       "      <td>1</td>\n",
       "      <td>4</td>\n",
       "      <td>Increased</td>\n",
       "      <td>NO</td>\n",
       "      <td>Cooking</td>\n",
       "      <td>YES</td>\n",
       "      <td>YES</td>\n",
       "      <td>School/college</td>\n",
       "      <td>Older students</td>\n",
       "    </tr>\n",
       "    <tr>\n",
       "      <th>1</th>\n",
       "      <td>R2</td>\n",
       "      <td>Delhi-NCR</td>\n",
       "      <td>21</td>\n",
       "      <td>0.0</td>\n",
       "      <td>Excellent</td>\n",
       "      <td>Smartphone</td>\n",
       "      <td>0.0</td>\n",
       "      <td>2.0</td>\n",
       "      <td>10.0</td>\n",
       "      <td>3.0</td>\n",
       "      <td>Youtube</td>\n",
       "      <td>0</td>\n",
       "      <td>3</td>\n",
       "      <td>Decreased</td>\n",
       "      <td>NO</td>\n",
       "      <td>Scrolling through social media</td>\n",
       "      <td>YES</td>\n",
       "      <td>NO</td>\n",
       "      <td>Roaming around freely</td>\n",
       "      <td>Older students</td>\n",
       "    </tr>\n",
       "    <tr>\n",
       "      <th>2</th>\n",
       "      <td>R3</td>\n",
       "      <td>Delhi-NCR</td>\n",
       "      <td>20</td>\n",
       "      <td>7.0</td>\n",
       "      <td>Very poor</td>\n",
       "      <td>Laptop/Desktop</td>\n",
       "      <td>3.0</td>\n",
       "      <td>0.0</td>\n",
       "      <td>6.0</td>\n",
       "      <td>2.0</td>\n",
       "      <td>Linkedin</td>\n",
       "      <td>0</td>\n",
       "      <td>3</td>\n",
       "      <td>Remain Constant</td>\n",
       "      <td>NO</td>\n",
       "      <td>Listening to music</td>\n",
       "      <td>NO</td>\n",
       "      <td>YES</td>\n",
       "      <td>Travelling</td>\n",
       "      <td>Younger students</td>\n",
       "    </tr>\n",
       "    <tr>\n",
       "      <th>3</th>\n",
       "      <td>R4</td>\n",
       "      <td>Delhi-NCR</td>\n",
       "      <td>20</td>\n",
       "      <td>3.0</td>\n",
       "      <td>Very poor</td>\n",
       "      <td>Smartphone</td>\n",
       "      <td>2.0</td>\n",
       "      <td>1.0</td>\n",
       "      <td>6.0</td>\n",
       "      <td>5.0</td>\n",
       "      <td>Instagram</td>\n",
       "      <td>0</td>\n",
       "      <td>3</td>\n",
       "      <td>Decreased</td>\n",
       "      <td>NO</td>\n",
       "      <td>Watching web series</td>\n",
       "      <td>NO</td>\n",
       "      <td>NO</td>\n",
       "      <td>Friends , relatives</td>\n",
       "      <td>Younger students</td>\n",
       "    </tr>\n",
       "    <tr>\n",
       "      <th>4</th>\n",
       "      <td>R5</td>\n",
       "      <td>Delhi-NCR</td>\n",
       "      <td>21</td>\n",
       "      <td>3.0</td>\n",
       "      <td>Good</td>\n",
       "      <td>Laptop/Desktop</td>\n",
       "      <td>3.0</td>\n",
       "      <td>1.0</td>\n",
       "      <td>8.0</td>\n",
       "      <td>3.0</td>\n",
       "      <td>Instagram</td>\n",
       "      <td>1</td>\n",
       "      <td>4</td>\n",
       "      <td>Remain Constant</td>\n",
       "      <td>NO</td>\n",
       "      <td>Social Media</td>\n",
       "      <td>NO</td>\n",
       "      <td>NO</td>\n",
       "      <td>Travelling</td>\n",
       "      <td>Older students</td>\n",
       "    </tr>\n",
       "    <tr>\n",
       "      <th>...</th>\n",
       "      <td>...</td>\n",
       "      <td>...</td>\n",
       "      <td>...</td>\n",
       "      <td>...</td>\n",
       "      <td>...</td>\n",
       "      <td>...</td>\n",
       "      <td>...</td>\n",
       "      <td>...</td>\n",
       "      <td>...</td>\n",
       "      <td>...</td>\n",
       "      <td>...</td>\n",
       "      <td>...</td>\n",
       "      <td>...</td>\n",
       "      <td>...</td>\n",
       "      <td>...</td>\n",
       "      <td>...</td>\n",
       "      <td>...</td>\n",
       "      <td>...</td>\n",
       "      <td>...</td>\n",
       "      <td>...</td>\n",
       "    </tr>\n",
       "    <tr>\n",
       "      <th>1177</th>\n",
       "      <td>R1191</td>\n",
       "      <td>Delhi-NCR</td>\n",
       "      <td>12</td>\n",
       "      <td>3.0</td>\n",
       "      <td>Good</td>\n",
       "      <td>Smartphone</td>\n",
       "      <td>4.0</td>\n",
       "      <td>1.0</td>\n",
       "      <td>8.0</td>\n",
       "      <td>1.0</td>\n",
       "      <td>Instagram</td>\n",
       "      <td>2</td>\n",
       "      <td>3</td>\n",
       "      <td>Decreased</td>\n",
       "      <td>NO</td>\n",
       "      <td>Dancing</td>\n",
       "      <td>YES</td>\n",
       "      <td>YES</td>\n",
       "      <td>Travelling</td>\n",
       "      <td>Younger adolescents</td>\n",
       "    </tr>\n",
       "    <tr>\n",
       "      <th>1178</th>\n",
       "      <td>R1192</td>\n",
       "      <td>Delhi-NCR</td>\n",
       "      <td>14</td>\n",
       "      <td>6.0</td>\n",
       "      <td>Average</td>\n",
       "      <td>Smartphone</td>\n",
       "      <td>4.0</td>\n",
       "      <td>1.0</td>\n",
       "      <td>9.0</td>\n",
       "      <td>1.0</td>\n",
       "      <td>Whatsapp</td>\n",
       "      <td>1</td>\n",
       "      <td>4</td>\n",
       "      <td>Remain Constant</td>\n",
       "      <td>NO</td>\n",
       "      <td>Listening to music</td>\n",
       "      <td>YES</td>\n",
       "      <td>YES</td>\n",
       "      <td>Friends , relatives</td>\n",
       "      <td>Younger adolescents</td>\n",
       "    </tr>\n",
       "    <tr>\n",
       "      <th>1179</th>\n",
       "      <td>R1193</td>\n",
       "      <td>Delhi-NCR</td>\n",
       "      <td>13</td>\n",
       "      <td>4.0</td>\n",
       "      <td>Average</td>\n",
       "      <td>Smartphone</td>\n",
       "      <td>0.0</td>\n",
       "      <td>0.5</td>\n",
       "      <td>8.0</td>\n",
       "      <td>3.0</td>\n",
       "      <td>Youtube</td>\n",
       "      <td>2</td>\n",
       "      <td>4</td>\n",
       "      <td>Decreased</td>\n",
       "      <td>NO</td>\n",
       "      <td>Online gaming</td>\n",
       "      <td>NO</td>\n",
       "      <td>YES</td>\n",
       "      <td>School/college</td>\n",
       "      <td>Younger adolescents</td>\n",
       "    </tr>\n",
       "    <tr>\n",
       "      <th>1180</th>\n",
       "      <td>R1194</td>\n",
       "      <td>Delhi-NCR</td>\n",
       "      <td>14</td>\n",
       "      <td>5.0</td>\n",
       "      <td>Excellent</td>\n",
       "      <td>Laptop/Desktop</td>\n",
       "      <td>3.5</td>\n",
       "      <td>1.0</td>\n",
       "      <td>8.0</td>\n",
       "      <td>0.5</td>\n",
       "      <td>Youtube</td>\n",
       "      <td>1</td>\n",
       "      <td>4</td>\n",
       "      <td>Remain Constant</td>\n",
       "      <td>NO</td>\n",
       "      <td>Reading books</td>\n",
       "      <td>YES</td>\n",
       "      <td>YES</td>\n",
       "      <td>School/college</td>\n",
       "      <td>Younger adolescents</td>\n",
       "    </tr>\n",
       "    <tr>\n",
       "      <th>1181</th>\n",
       "      <td>R1195</td>\n",
       "      <td>Delhi-NCR</td>\n",
       "      <td>13</td>\n",
       "      <td>5.0</td>\n",
       "      <td>Good</td>\n",
       "      <td>Tablet</td>\n",
       "      <td>2.0</td>\n",
       "      <td>0.5</td>\n",
       "      <td>7.0</td>\n",
       "      <td>1.0</td>\n",
       "      <td>Whatsapp</td>\n",
       "      <td>1</td>\n",
       "      <td>3</td>\n",
       "      <td>Remain Constant</td>\n",
       "      <td>NO</td>\n",
       "      <td>Talking</td>\n",
       "      <td>YES</td>\n",
       "      <td>YES</td>\n",
       "      <td>School/college</td>\n",
       "      <td>Younger adolescents</td>\n",
       "    </tr>\n",
       "  </tbody>\n",
       "</table>\n",
       "<p>983 rows × 20 columns</p>\n",
       "</div>"
      ],
      "text/plain": [
       "         ID Region of residence  Age of Subject  Time spent on Online Class  \\\n",
       "0        R1           Delhi-NCR              21                         2.0   \n",
       "1        R2           Delhi-NCR              21                         0.0   \n",
       "2        R3           Delhi-NCR              20                         7.0   \n",
       "3        R4           Delhi-NCR              20                         3.0   \n",
       "4        R5           Delhi-NCR              21                         3.0   \n",
       "...     ...                 ...             ...                         ...   \n",
       "1177  R1191           Delhi-NCR              12                         3.0   \n",
       "1178  R1192           Delhi-NCR              14                         6.0   \n",
       "1179  R1193           Delhi-NCR              13                         4.0   \n",
       "1180  R1194           Delhi-NCR              14                         5.0   \n",
       "1181  R1195           Delhi-NCR              13                         5.0   \n",
       "\n",
       "     Rating of Online Class experience Medium for online class  \\\n",
       "0                                 Good          Laptop/Desktop   \n",
       "1                            Excellent              Smartphone   \n",
       "2                            Very poor          Laptop/Desktop   \n",
       "3                            Very poor              Smartphone   \n",
       "4                                 Good          Laptop/Desktop   \n",
       "...                                ...                     ...   \n",
       "1177                              Good              Smartphone   \n",
       "1178                           Average              Smartphone   \n",
       "1179                           Average              Smartphone   \n",
       "1180                         Excellent          Laptop/Desktop   \n",
       "1181                              Good                  Tablet   \n",
       "\n",
       "      Time spent on self study  Time spent on fitness  Time spent on sleep  \\\n",
       "0                          4.0                    0.0                  7.0   \n",
       "1                          0.0                    2.0                 10.0   \n",
       "2                          3.0                    0.0                  6.0   \n",
       "3                          2.0                    1.0                  6.0   \n",
       "4                          3.0                    1.0                  8.0   \n",
       "...                        ...                    ...                  ...   \n",
       "1177                       4.0                    1.0                  8.0   \n",
       "1178                       4.0                    1.0                  9.0   \n",
       "1179                       0.0                    0.5                  8.0   \n",
       "1180                       3.5                    1.0                  8.0   \n",
       "1181                       2.0                    0.5                  7.0   \n",
       "\n",
       "      Time spent on social media Prefered social media platform  \\\n",
       "0                            3.0                       Linkedin   \n",
       "1                            3.0                        Youtube   \n",
       "2                            2.0                       Linkedin   \n",
       "3                            5.0                      Instagram   \n",
       "4                            3.0                      Instagram   \n",
       "...                          ...                            ...   \n",
       "1177                         1.0                      Instagram   \n",
       "1178                         1.0                       Whatsapp   \n",
       "1179                         3.0                        Youtube   \n",
       "1180                         0.5                        Youtube   \n",
       "1181                         1.0                       Whatsapp   \n",
       "\n",
       "     Time spent on TV  Number of meals per day Change in your weight  \\\n",
       "0                   1                        4             Increased   \n",
       "1                   0                        3             Decreased   \n",
       "2                   0                        3       Remain Constant   \n",
       "3                   0                        3             Decreased   \n",
       "4                   1                        4       Remain Constant   \n",
       "...               ...                      ...                   ...   \n",
       "1177                2                        3             Decreased   \n",
       "1178                1                        4       Remain Constant   \n",
       "1179                2                        4             Decreased   \n",
       "1180                1                        4       Remain Constant   \n",
       "1181                1                        3       Remain Constant   \n",
       "\n",
       "     Health issue during lockdown                  Stress busters  \\\n",
       "0                              NO                         Cooking   \n",
       "1                              NO  Scrolling through social media   \n",
       "2                              NO              Listening to music   \n",
       "3                              NO             Watching web series   \n",
       "4                              NO                    Social Media   \n",
       "...                           ...                             ...   \n",
       "1177                           NO                         Dancing   \n",
       "1178                           NO              Listening to music   \n",
       "1179                           NO                   Online gaming   \n",
       "1180                           NO                   Reading books   \n",
       "1181                           NO                         Talking   \n",
       "\n",
       "     Time utilized  \\\n",
       "0              YES   \n",
       "1              YES   \n",
       "2               NO   \n",
       "3               NO   \n",
       "4               NO   \n",
       "...            ...   \n",
       "1177           YES   \n",
       "1178           YES   \n",
       "1179            NO   \n",
       "1180           YES   \n",
       "1181           YES   \n",
       "\n",
       "     Do you find yourself more connected with your family, close friends , relatives  ?  \\\n",
       "0                                                   YES                                   \n",
       "1                                                    NO                                   \n",
       "2                                                   YES                                   \n",
       "3                                                    NO                                   \n",
       "4                                                    NO                                   \n",
       "...                                                 ...                                   \n",
       "1177                                                YES                                   \n",
       "1178                                                YES                                   \n",
       "1179                                                YES                                   \n",
       "1180                                                YES                                   \n",
       "1181                                                YES                                   \n",
       "\n",
       "     What you miss the most         Age Category  \n",
       "0            School/college       Older students  \n",
       "1     Roaming around freely       Older students  \n",
       "2                Travelling     Younger students  \n",
       "3       Friends , relatives     Younger students  \n",
       "4                Travelling       Older students  \n",
       "...                     ...                  ...  \n",
       "1177             Travelling  Younger adolescents  \n",
       "1178    Friends , relatives  Younger adolescents  \n",
       "1179         School/college  Younger adolescents  \n",
       "1180         School/college  Younger adolescents  \n",
       "1181         School/college  Younger adolescents  \n",
       "\n",
       "[983 rows x 20 columns]"
      ]
     },
     "execution_count": 448,
     "metadata": {},
     "output_type": "execute_result"
    }
   ],
   "source": [
    "df = pd.DataFrame(dataset[\n",
    "                      (12 <= dataset['Age of Subject'])\n",
    "                    & (dataset['Age of Subject'] < 23)\n",
    "                  ])\n",
    "\n",
    "def get_age_category(age: int):\n",
    "    if 12 <= age < 16:\n",
    "        return 'Younger adolescents'\n",
    "    elif 16 <= age < 19:\n",
    "        return 'Older adolescents'\n",
    "    elif 19 <= age < 21:\n",
    "        return 'Younger students'\n",
    "    elif 21 <= age < 23:\n",
    "        return 'Older students'\n",
    "    return 'NA'\n",
    "\n",
    "age_categories = ['Younger adolescents', 'Older adolescents', 'Younger students', 'Older students']\n",
    "df['Age Category'] = pd.Categorical(df['Age of Subject'].map(get_age_category), categories=age_categories, ordered=True)\n",
    "\n",
    "df"
   ]
  },
  {
   "cell_type": "code",
   "execution_count": 449,
   "id": "54bcc12b",
   "metadata": {
    "pycharm": {
     "name": "#%%\n"
    }
   },
   "outputs": [
    {
     "name": "stdout",
     "output_type": "stream",
     "text": [
      "ID                                                                                     0\n",
      "Region of residence                                                                    0\n",
      "Age of Subject                                                                         0\n",
      "Time spent on Online Class                                                             0\n",
      "Rating of Online Class experience                                                     17\n",
      "Medium for online class                                                               38\n",
      "Time spent on self study                                                               0\n",
      "Time spent on fitness                                                                  0\n",
      "Time spent on sleep                                                                    0\n",
      "Time spent on social media                                                             0\n",
      "Prefered social media platform                                                         0\n",
      "Time spent on TV                                                                       0\n",
      "Number of meals per day                                                                0\n",
      "Change in your weight                                                                  0\n",
      "Health issue during lockdown                                                           0\n",
      "Stress busters                                                                         0\n",
      "Time utilized                                                                          0\n",
      "Do you find yourself more connected with your family, close friends , relatives  ?     0\n",
      "What you miss the most                                                                 0\n",
      "Age Category                                                                           0\n",
      "dtype: int64\n"
     ]
    }
   ],
   "source": [
    "print(df.isna().sum())"
   ]
  },
  {
   "cell_type": "code",
   "execution_count": 450,
   "id": "4212e63e",
   "metadata": {
    "pycharm": {
     "name": "#%%\n"
    }
   },
   "outputs": [
    {
     "data": {
      "text/plain": [
       "Older students         16\n",
       "Younger students        9\n",
       "Older adolescents       8\n",
       "Younger adolescents     5\n",
       "Name: Age Category, dtype: int64"
      ]
     },
     "execution_count": 450,
     "metadata": {},
     "output_type": "execute_result"
    }
   ],
   "source": [
    "df[df.isna().any(axis=1)]['Age Category'].value_counts()"
   ]
  },
  {
   "cell_type": "code",
   "execution_count": 451,
   "id": "42613d21",
   "metadata": {
    "pycharm": {
     "name": "#%%\n"
    }
   },
   "outputs": [],
   "source": [
    "df.dropna(axis=0, inplace=True)"
   ]
  },
  {
   "cell_type": "code",
   "execution_count": 452,
   "id": "c23afbe2",
   "metadata": {
    "pycharm": {
     "name": "#%%\n"
    }
   },
   "outputs": [
    {
     "data": {
      "text/plain": [
       "False"
      ]
     },
     "execution_count": 452,
     "metadata": {},
     "output_type": "execute_result"
    }
   ],
   "source": [
    "df['ID'].duplicated().any()"
   ]
  },
  {
   "cell_type": "code",
   "execution_count": 453,
   "id": "bc3c2082",
   "metadata": {
    "pycharm": {
     "name": "#%%\n"
    }
   },
   "outputs": [
    {
     "data": {
      "text/plain": [
       "ID                                                                                      object\n",
       "Region of residence                                                                     object\n",
       "Age of Subject                                                                           int64\n",
       "Time spent on Online Class                                                             float64\n",
       "Rating of Online Class experience                                                       object\n",
       "Medium for online class                                                                 object\n",
       "Time spent on self study                                                               float64\n",
       "Time spent on fitness                                                                  float64\n",
       "Time spent on sleep                                                                    float64\n",
       "Time spent on social media                                                             float64\n",
       "Prefered social media platform                                                          object\n",
       "Time spent on TV                                                                        object\n",
       "Number of meals per day                                                                  int64\n",
       "Change in your weight                                                                   object\n",
       "Health issue during lockdown                                                            object\n",
       "Stress busters                                                                          object\n",
       "Time utilized                                                                           object\n",
       "Do you find yourself more connected with your family, close friends , relatives  ?      object\n",
       "What you miss the most                                                                  object\n",
       "Age Category                                                                          category\n",
       "dtype: object"
      ]
     },
     "execution_count": 453,
     "metadata": {},
     "output_type": "execute_result"
    }
   ],
   "source": [
    "df.dtypes"
   ]
  },
  {
   "cell_type": "code",
   "execution_count": 454,
   "id": "211ccb7d",
   "metadata": {
    "pycharm": {
     "name": "#%%\n"
    }
   },
   "outputs": [
    {
     "data": {
      "text/plain": [
       "18          n\n",
       "106         N\n",
       "111         N\n",
       "194     No tv\n",
       "269         N\n",
       "282         N\n",
       "545     No tv\n",
       "616          \n",
       "751          \n",
       "1040        N\n",
       "Name: Time spent on TV, dtype: object"
      ]
     },
     "execution_count": 454,
     "metadata": {},
     "output_type": "execute_result"
    }
   ],
   "source": [
    "def is_number(element: str):\n",
    "    return sum(map(lambda c: c.isnumeric() or c == '.', element)) == len(element) and len(element) != 0\n",
    "\n",
    "notnum_mask = ~df['Time spent on TV'].map(is_number)\n",
    "df['Time spent on TV'][notnum_mask]"
   ]
  },
  {
   "cell_type": "code",
   "execution_count": 455,
   "id": "9655bb21",
   "metadata": {
    "pycharm": {
     "name": "#%%\n"
    }
   },
   "outputs": [],
   "source": [
    "df['Time spent on TV'] = pd.to_numeric(df['Time spent on TV'], errors='coerce').fillna(0)"
   ]
  },
  {
   "cell_type": "code",
   "execution_count": 456,
   "id": "d2308421",
   "metadata": {
    "pycharm": {
     "name": "#%%\n"
    }
   },
   "outputs": [
    {
     "data": {
      "text/plain": [
       "array(['Good', 'Excellent', 'Very poor', 'Average', 'Poor'], dtype=object)"
      ]
     },
     "execution_count": 456,
     "metadata": {},
     "output_type": "execute_result"
    }
   ],
   "source": [
    "df['Rating of Online Class experience'].unique()"
   ]
  },
  {
   "cell_type": "code",
   "execution_count": 457,
   "id": "eae4da29",
   "metadata": {
    "pycharm": {
     "name": "#%%\n"
    }
   },
   "outputs": [],
   "source": [
    "rating_categories = ['Very poor', 'Poor', 'Average', 'Good', 'Excellent']\n",
    "df['Rating of Online Class experience'] = df['Rating of Online Class experience'].astype(pd.CategoricalDtype(rating_categories , ordered=True))"
   ]
  },
  {
   "cell_type": "code",
   "execution_count": 458,
   "id": "1b338a8a",
   "metadata": {
    "pycharm": {
     "name": "#%%\n"
    }
   },
   "outputs": [
    {
     "data": {
      "text/plain": [
       "<AxesSubplot:xlabel='Rating of Online Class experience'>"
      ]
     },
     "execution_count": 458,
     "metadata": {},
     "output_type": "execute_result"
    },
    {
     "data": {
      "image/png": "[encoded data removed]",
      "text/plain": [
       "<Figure size 864x720 with 1 Axes>"
      ]
     },
     "metadata": {},
     "output_type": "display_data"
    }
   ],
   "source": [
    "df\\\n",
    "    .groupby(['Age Category', 'Rating of Online Class experience'])\\\n",
    "    .size()\\\n",
    "    .unstack(0)\\\n",
    "    .plot(figsize=(12, 10), kind='bar')"
   ]
  },
  {
   "cell_type": "code",
   "execution_count": 459,
   "id": "05077c13",
   "metadata": {
    "pycharm": {
     "name": "#%%\n"
    }
   },
   "outputs": [
    {
     "data": {
      "text/plain": [
       "<AxesSubplot:xlabel='Change in your weight'>"
      ]
     },
     "execution_count": 459,
     "metadata": {},
     "output_type": "execute_result"
    },
    {
     "data": {
      "image/png": "[encoded data removed]",
      "text/plain": [
       "<Figure size 864x720 with 1 Axes>"
      ]
     },
     "metadata": {},
     "output_type": "display_data"
    }
   ],
   "source": [
    "df.groupby([\"Age Category\", \"Change in your weight\"]).size().unstack(0).plot(figsize=(12, 10), kind='bar')"
   ]
  },
  {
   "cell_type": "code",
   "execution_count": 460,
   "id": "4ab0b745",
   "metadata": {
    "pycharm": {
     "name": "#%%\n"
    }
   },
   "outputs": [
    {
     "data": {
      "text/plain": [
       "<AxesSubplot:xlabel='Number of meals per day'>"
      ]
     },
     "execution_count": 460,
     "metadata": {},
     "output_type": "execute_result"
    },
    {
     "data": {
      "image/png": "[encoded data removed]",
      "text/plain": [
       "<Figure size 864x720 with 1 Axes>"
      ]
     },
     "metadata": {},
     "output_type": "display_data"
    }
   ],
   "source": [
    "df\\\n",
    "    .groupby(['Age Category', 'Number of meals per day'])\\\n",
    "    .size()\\\n",
    "    .unstack(0)\\\n",
    "    .plot(figsize=(12, 10), kind='bar')"
   ]
  },
  {
   "cell_type": "code",
   "execution_count": 461,
   "id": "0fcdb9e5",
   "metadata": {
    "pycharm": {
     "name": "#%%\n"
    }
   },
   "outputs": [
    {
     "name": "stderr",
     "output_type": "stream",
     "text": [
      "C:\\Users\\w___B\\AppData\\Local\\Temp\\ipykernel_26224\\4264027881.py:3: FutureWarning: The series.append method is deprecated and will be removed from pandas in a future version. Use pandas.concat instead.\n",
      "  high_values = highest[0:5].append(pd.Series({\"Sleeping\":sleeping})).append(highest[6:8]).append(pd.Series({\"Cooking\":highest[9]})).sort_values(ascending=False)\n",
      "C:\\Users\\w___B\\AppData\\Local\\Temp\\ipykernel_26224\\4264027881.py:3: FutureWarning: The series.append method is deprecated and will be removed from pandas in a future version. Use pandas.concat instead.\n",
      "  high_values = highest[0:5].append(pd.Series({\"Sleeping\":sleeping})).append(highest[6:8]).append(pd.Series({\"Cooking\":highest[9]})).sort_values(ascending=False)\n",
      "C:\\Users\\w___B\\AppData\\Local\\Temp\\ipykernel_26224\\4264027881.py:3: FutureWarning: The series.append method is deprecated and will be removed from pandas in a future version. Use pandas.concat instead.\n",
      "  high_values = highest[0:5].append(pd.Series({\"Sleeping\":sleeping})).append(highest[6:8]).append(pd.Series({\"Cooking\":highest[9]})).sort_values(ascending=False)\n"
     ]
    },
    {
     "data": {
      "text/plain": [
       "<AxesSubplot:xlabel='Stress busters'>"
      ]
     },
     "execution_count": 461,
     "metadata": {},
     "output_type": "execute_result"
    },
    {
     "data": {
      "image/png": "[encoded data removed]",
      "text/plain": [
       "<Figure size 864x720 with 1 Axes>"
      ]
     },
     "metadata": {},
     "output_type": "display_data"
    }
   ],
   "source": [
    "highest = df[\"Stress busters\"].value_counts()\n",
    "sleeping = highest[5] + highest[8]\n",
    "high_values = highest[0:5].append(pd.Series({\"Sleeping\":sleeping})).append(highest[6:8]).append(pd.Series({\"Cooking\":highest[9]})).sort_values(ascending=False)\n",
    "top_values = high_values.index.tolist()\n",
    "df[df[\"Stress busters\"].isin(top_values)].groupby([\"Age Category\", \"Stress busters\"]).size().unstack(0).plot(figsize=(12, 10), kind='bar', rot=30)"
   ]
  },
  {
   "cell_type": "code",
   "execution_count": 203,
   "id": "776ac0e7",
   "metadata": {},
   "outputs": [
    {
     "data": {
      "text/plain": [
       "<AxesSubplot:xlabel='Stress busters'>"
      ]
     },
     "execution_count": 203,
     "metadata": {},
     "output_type": "execute_result"
    },
    {
     "data": {
      "image/png": "[encoded data removed]",
      "text/plain": [
       "<Figure size 864x720 with 1 Axes>"
      ]
     },
     "metadata": {
      "needs_background": "light"
     },
     "output_type": "display_data"
    }
   ],
   "source": [
    "df[df[\"Stress busters\"].isin(top_values)].groupby([\"Stress busters\", \"Time utilized\"]).size().unstack(1).plot(figsize=(12, 10), kind='bar', rot=30)"
   ]
  },
  {
   "cell_type": "code",
   "execution_count": null,
   "id": "e22b4006",
   "metadata": {},
   "outputs": [],
   "source": []
  }
 ],
 "metadata": {
  "kernelspec": {
   "display_name": "Python 3 (ipykernel)",
   "language": "python",
   "name": "python3"
  },
  "language_info": {
   "codemirror_mode": {
    "name": "ipython",
    "version": 3
   },
   "file_extension": ".py",
   "mimetype": "text/x-python",
   "name": "python",
   "nbconvert_exporter": "python",
   "pygments_lexer": "ipython3",
   "version": "3.9.7"
  }
 },
 "nbformat": 4,
 "nbformat_minor": 5
}
