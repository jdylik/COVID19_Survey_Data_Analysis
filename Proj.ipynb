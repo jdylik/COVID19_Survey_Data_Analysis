{
 "cells": [
  {
   "cell_type": "code",
   "execution_count": 311,
   "id": "73a6291a",
   "metadata": {
    "pycharm": {
     "name": "#%%\n"
    }
   },
   "outputs": [],
   "source": [
    "import pandas as pd\n",
    "\n",
    "dataset = pd.read_csv(\"COVID-19_Survey_Student_Responses.csv\")"
   ]
  },
  {
   "cell_type": "code",
   "execution_count": 312,
   "id": "fc3e48c7",
   "metadata": {},
   "outputs": [
    {
     "data": {
      "text/plain": "         ID Region of residence  Age of Subject  Time spent on Online Class  \\\n0        R1           Delhi-NCR              21                         2.0   \n1        R2           Delhi-NCR              21                         0.0   \n2        R3           Delhi-NCR              20                         7.0   \n3        R4           Delhi-NCR              20                         3.0   \n4        R5           Delhi-NCR              21                         3.0   \n...     ...                 ...             ...                         ...   \n1177  R1191           Delhi-NCR              12                         3.0   \n1178  R1192           Delhi-NCR              14                         6.0   \n1179  R1193           Delhi-NCR              13                         4.0   \n1180  R1194           Delhi-NCR              14                         5.0   \n1181  R1195           Delhi-NCR              13                         5.0   \n\n     Rating of Online Class experience Medium for online class  \\\n0                                 Good          Laptop/Desktop   \n1                            Excellent              Smartphone   \n2                            Very poor          Laptop/Desktop   \n3                            Very poor              Smartphone   \n4                                 Good          Laptop/Desktop   \n...                                ...                     ...   \n1177                              Good              Smartphone   \n1178                           Average              Smartphone   \n1179                           Average              Smartphone   \n1180                         Excellent          Laptop/Desktop   \n1181                              Good                  Tablet   \n\n      Time spent on self study  Time spent on fitness  Time spent on sleep  \\\n0                          4.0                    0.0                  7.0   \n1                          0.0                    2.0                 10.0   \n2                          3.0                    0.0                  6.0   \n3                          2.0                    1.0                  6.0   \n4                          3.0                    1.0                  8.0   \n...                        ...                    ...                  ...   \n1177                       4.0                    1.0                  8.0   \n1178                       4.0                    1.0                  9.0   \n1179                       0.0                    0.5                  8.0   \n1180                       3.5                    1.0                  8.0   \n1181                       2.0                    0.5                  7.0   \n\n      Time spent on social media Prefered social media platform  \\\n0                            3.0                       Linkedin   \n1                            3.0                        Youtube   \n2                            2.0                       Linkedin   \n3                            5.0                      Instagram   \n4                            3.0                      Instagram   \n...                          ...                            ...   \n1177                         1.0                      Instagram   \n1178                         1.0                       Whatsapp   \n1179                         3.0                        Youtube   \n1180                         0.5                        Youtube   \n1181                         1.0                       Whatsapp   \n\n     Time spent on TV  Number of meals per day Change in your weight  \\\n0                   1                        4             Increased   \n1                   0                        3             Decreased   \n2                   0                        3       Remain Constant   \n3                   0                        3             Decreased   \n4                   1                        4       Remain Constant   \n...               ...                      ...                   ...   \n1177                2                        3             Decreased   \n1178                1                        4       Remain Constant   \n1179                2                        4             Decreased   \n1180                1                        4       Remain Constant   \n1181                1                        3       Remain Constant   \n\n     Health issue during lockdown                  Stress busters  \\\n0                              NO                         Cooking   \n1                              NO  Scrolling through social media   \n2                              NO              Listening to music   \n3                              NO             Watching web series   \n4                              NO                    Social Media   \n...                           ...                             ...   \n1177                           NO                         Dancing   \n1178                           NO              Listening to music   \n1179                           NO                   Online gaming   \n1180                           NO                   Reading books   \n1181                           NO                         Talking   \n\n     Time utilized  \\\n0              YES   \n1              YES   \n2               NO   \n3               NO   \n4               NO   \n...            ...   \n1177           YES   \n1178           YES   \n1179            NO   \n1180           YES   \n1181           YES   \n\n     Do you find yourself more connected with your family, close friends , relatives  ?  \\\n0                                                   YES                                   \n1                                                    NO                                   \n2                                                   YES                                   \n3                                                    NO                                   \n4                                                    NO                                   \n...                                                 ...                                   \n1177                                                YES                                   \n1178                                                YES                                   \n1179                                                YES                                   \n1180                                                YES                                   \n1181                                                YES                                   \n\n     What you miss the most  \n0            School/college  \n1     Roaming around freely  \n2                Travelling  \n3       Friends , relatives  \n4                Travelling  \n...                     ...  \n1177             Travelling  \n1178    Friends , relatives  \n1179         School/college  \n1180         School/college  \n1181         School/college  \n\n[1182 rows x 19 columns]",
      "text/html": "<div>\n<style scoped>\n    .dataframe tbody tr th:only-of-type {\n        vertical-align: middle;\n    }\n\n    .dataframe tbody tr th {\n        vertical-align: top;\n    }\n\n    .dataframe thead th {\n        text-align: right;\n    }\n</style>\n<table border=\"1\" class=\"dataframe\">\n  <thead>\n    <tr style=\"text-align: right;\">\n      <th></th>\n      <th>ID</th>\n      <th>Region of residence</th>\n      <th>Age of Subject</th>\n      <th>Time spent on Online Class</th>\n      <th>Rating of Online Class experience</th>\n      <th>Medium for online class</th>\n      <th>Time spent on self study</th>\n      <th>Time spent on fitness</th>\n      <th>Time spent on sleep</th>\n      <th>Time spent on social media</th>\n      <th>Prefered social media platform</th>\n      <th>Time spent on TV</th>\n      <th>Number of meals per day</th>\n      <th>Change in your weight</th>\n      <th>Health issue during lockdown</th>\n      <th>Stress busters</th>\n      <th>Time utilized</th>\n      <th>Do you find yourself more connected with your family, close friends , relatives  ?</th>\n      <th>What you miss the most</th>\n    </tr>\n  </thead>\n  <tbody>\n    <tr>\n      <th>0</th>\n      <td>R1</td>\n      <td>Delhi-NCR</td>\n      <td>21</td>\n      <td>2.0</td>\n      <td>Good</td>\n      <td>Laptop/Desktop</td>\n      <td>4.0</td>\n      <td>0.0</td>\n      <td>7.0</td>\n      <td>3.0</td>\n      <td>Linkedin</td>\n      <td>1</td>\n      <td>4</td>\n      <td>Increased</td>\n      <td>NO</td>\n      <td>Cooking</td>\n      <td>YES</td>\n      <td>YES</td>\n      <td>School/college</td>\n    </tr>\n    <tr>\n      <th>1</th>\n      <td>R2</td>\n      <td>Delhi-NCR</td>\n      <td>21</td>\n      <td>0.0</td>\n      <td>Excellent</td>\n      <td>Smartphone</td>\n      <td>0.0</td>\n      <td>2.0</td>\n      <td>10.0</td>\n      <td>3.0</td>\n      <td>Youtube</td>\n      <td>0</td>\n      <td>3</td>\n      <td>Decreased</td>\n      <td>NO</td>\n      <td>Scrolling through social media</td>\n      <td>YES</td>\n      <td>NO</td>\n      <td>Roaming around freely</td>\n    </tr>\n    <tr>\n      <th>2</th>\n      <td>R3</td>\n      <td>Delhi-NCR</td>\n      <td>20</td>\n      <td>7.0</td>\n      <td>Very poor</td>\n      <td>Laptop/Desktop</td>\n      <td>3.0</td>\n      <td>0.0</td>\n      <td>6.0</td>\n      <td>2.0</td>\n      <td>Linkedin</td>\n      <td>0</td>\n      <td>3</td>\n      <td>Remain Constant</td>\n      <td>NO</td>\n      <td>Listening to music</td>\n      <td>NO</td>\n      <td>YES</td>\n      <td>Travelling</td>\n    </tr>\n    <tr>\n      <th>3</th>\n      <td>R4</td>\n      <td>Delhi-NCR</td>\n      <td>20</td>\n      <td>3.0</td>\n      <td>Very poor</td>\n      <td>Smartphone</td>\n      <td>2.0</td>\n      <td>1.0</td>\n      <td>6.0</td>\n      <td>5.0</td>\n      <td>Instagram</td>\n      <td>0</td>\n      <td>3</td>\n      <td>Decreased</td>\n      <td>NO</td>\n      <td>Watching web series</td>\n      <td>NO</td>\n      <td>NO</td>\n      <td>Friends , relatives</td>\n    </tr>\n    <tr>\n      <th>4</th>\n      <td>R5</td>\n      <td>Delhi-NCR</td>\n      <td>21</td>\n      <td>3.0</td>\n      <td>Good</td>\n      <td>Laptop/Desktop</td>\n      <td>3.0</td>\n      <td>1.0</td>\n      <td>8.0</td>\n      <td>3.0</td>\n      <td>Instagram</td>\n      <td>1</td>\n      <td>4</td>\n      <td>Remain Constant</td>\n      <td>NO</td>\n      <td>Social Media</td>\n      <td>NO</td>\n      <td>NO</td>\n      <td>Travelling</td>\n    </tr>\n    <tr>\n      <th>...</th>\n      <td>...</td>\n      <td>...</td>\n      <td>...</td>\n      <td>...</td>\n      <td>...</td>\n      <td>...</td>\n      <td>...</td>\n      <td>...</td>\n      <td>...</td>\n      <td>...</td>\n      <td>...</td>\n      <td>...</td>\n      <td>...</td>\n      <td>...</td>\n      <td>...</td>\n      <td>...</td>\n      <td>...</td>\n      <td>...</td>\n      <td>...</td>\n    </tr>\n    <tr>\n      <th>1177</th>\n      <td>R1191</td>\n      <td>Delhi-NCR</td>\n      <td>12</td>\n      <td>3.0</td>\n      <td>Good</td>\n      <td>Smartphone</td>\n      <td>4.0</td>\n      <td>1.0</td>\n      <td>8.0</td>\n      <td>1.0</td>\n      <td>Instagram</td>\n      <td>2</td>\n      <td>3</td>\n      <td>Decreased</td>\n      <td>NO</td>\n      <td>Dancing</td>\n      <td>YES</td>\n      <td>YES</td>\n      <td>Travelling</td>\n    </tr>\n    <tr>\n      <th>1178</th>\n      <td>R1192</td>\n      <td>Delhi-NCR</td>\n      <td>14</td>\n      <td>6.0</td>\n      <td>Average</td>\n      <td>Smartphone</td>\n      <td>4.0</td>\n      <td>1.0</td>\n      <td>9.0</td>\n      <td>1.0</td>\n      <td>Whatsapp</td>\n      <td>1</td>\n      <td>4</td>\n      <td>Remain Constant</td>\n      <td>NO</td>\n      <td>Listening to music</td>\n      <td>YES</td>\n      <td>YES</td>\n      <td>Friends , relatives</td>\n    </tr>\n    <tr>\n      <th>1179</th>\n      <td>R1193</td>\n      <td>Delhi-NCR</td>\n      <td>13</td>\n      <td>4.0</td>\n      <td>Average</td>\n      <td>Smartphone</td>\n      <td>0.0</td>\n      <td>0.5</td>\n      <td>8.0</td>\n      <td>3.0</td>\n      <td>Youtube</td>\n      <td>2</td>\n      <td>4</td>\n      <td>Decreased</td>\n      <td>NO</td>\n      <td>Online gaming</td>\n      <td>NO</td>\n      <td>YES</td>\n      <td>School/college</td>\n    </tr>\n    <tr>\n      <th>1180</th>\n      <td>R1194</td>\n      <td>Delhi-NCR</td>\n      <td>14</td>\n      <td>5.0</td>\n      <td>Excellent</td>\n      <td>Laptop/Desktop</td>\n      <td>3.5</td>\n      <td>1.0</td>\n      <td>8.0</td>\n      <td>0.5</td>\n      <td>Youtube</td>\n      <td>1</td>\n      <td>4</td>\n      <td>Remain Constant</td>\n      <td>NO</td>\n      <td>Reading books</td>\n      <td>YES</td>\n      <td>YES</td>\n      <td>School/college</td>\n    </tr>\n    <tr>\n      <th>1181</th>\n      <td>R1195</td>\n      <td>Delhi-NCR</td>\n      <td>13</td>\n      <td>5.0</td>\n      <td>Good</td>\n      <td>Tablet</td>\n      <td>2.0</td>\n      <td>0.5</td>\n      <td>7.0</td>\n      <td>1.0</td>\n      <td>Whatsapp</td>\n      <td>1</td>\n      <td>3</td>\n      <td>Remain Constant</td>\n      <td>NO</td>\n      <td>Talking</td>\n      <td>YES</td>\n      <td>YES</td>\n      <td>School/college</td>\n    </tr>\n  </tbody>\n</table>\n<p>1182 rows × 19 columns</p>\n</div>"
     },
     "execution_count": 312,
     "metadata": {},
     "output_type": "execute_result"
    }
   ],
   "source": [
    "dataset"
   ]
  },
  {
   "cell_type": "code",
   "execution_count": 313,
   "id": "6f8a0a8a",
   "metadata": {
    "scrolled": true,
    "pycharm": {
     "name": "#%%\n"
    }
   },
   "outputs": [
    {
     "data": {
      "text/plain": "<AxesSubplot:>"
     },
     "execution_count": 313,
     "metadata": {},
     "output_type": "execute_result"
    },
    {
     "data": {
      "text/plain": "<Figure size 1440x720 with 1 Axes>",
      "image/png": "[encoded data removed]"
     },
     "metadata": {
      "needs_background": "light"
     },
     "output_type": "display_data"
    }
   ],
   "source": [
    "dataset['Age of Subject'].value_counts().sort_index().plot(figsize=(20,10), kind='bar')"
   ]
  },
  {
   "cell_type": "code",
   "execution_count": 314,
   "id": "9d099704",
   "metadata": {
    "pycharm": {
     "name": "#%%\n"
    }
   },
   "outputs": [
    {
     "data": {
      "text/plain": "         ID Region of residence  Age of Subject  Time spent on Online Class  \\\n0        R1           Delhi-NCR              21                         2.0   \n1        R2           Delhi-NCR              21                         0.0   \n2        R3           Delhi-NCR              20                         7.0   \n3        R4           Delhi-NCR              20                         3.0   \n4        R5           Delhi-NCR              21                         3.0   \n...     ...                 ...             ...                         ...   \n1177  R1191           Delhi-NCR              12                         3.0   \n1178  R1192           Delhi-NCR              14                         6.0   \n1179  R1193           Delhi-NCR              13                         4.0   \n1180  R1194           Delhi-NCR              14                         5.0   \n1181  R1195           Delhi-NCR              13                         5.0   \n\n     Rating of Online Class experience Medium for online class  \\\n0                                 Good          Laptop/Desktop   \n1                            Excellent              Smartphone   \n2                            Very poor          Laptop/Desktop   \n3                            Very poor              Smartphone   \n4                                 Good          Laptop/Desktop   \n...                                ...                     ...   \n1177                              Good              Smartphone   \n1178                           Average              Smartphone   \n1179                           Average              Smartphone   \n1180                         Excellent          Laptop/Desktop   \n1181                              Good                  Tablet   \n\n      Time spent on self study  Time spent on fitness  Time spent on sleep  \\\n0                          4.0                    0.0                  7.0   \n1                          0.0                    2.0                 10.0   \n2                          3.0                    0.0                  6.0   \n3                          2.0                    1.0                  6.0   \n4                          3.0                    1.0                  8.0   \n...                        ...                    ...                  ...   \n1177                       4.0                    1.0                  8.0   \n1178                       4.0                    1.0                  9.0   \n1179                       0.0                    0.5                  8.0   \n1180                       3.5                    1.0                  8.0   \n1181                       2.0                    0.5                  7.0   \n\n      Time spent on social media Prefered social media platform  \\\n0                            3.0                       Linkedin   \n1                            3.0                        Youtube   \n2                            2.0                       Linkedin   \n3                            5.0                      Instagram   \n4                            3.0                      Instagram   \n...                          ...                            ...   \n1177                         1.0                      Instagram   \n1178                         1.0                       Whatsapp   \n1179                         3.0                        Youtube   \n1180                         0.5                        Youtube   \n1181                         1.0                       Whatsapp   \n\n     Time spent on TV  Number of meals per day Change in your weight  \\\n0                   1                        4             Increased   \n1                   0                        3             Decreased   \n2                   0                        3       Remain Constant   \n3                   0                        3             Decreased   \n4                   1                        4       Remain Constant   \n...               ...                      ...                   ...   \n1177                2                        3             Decreased   \n1178                1                        4       Remain Constant   \n1179                2                        4             Decreased   \n1180                1                        4       Remain Constant   \n1181                1                        3       Remain Constant   \n\n     Health issue during lockdown                  Stress busters  \\\n0                              NO                         Cooking   \n1                              NO  Scrolling through social media   \n2                              NO              Listening to music   \n3                              NO             Watching web series   \n4                              NO                    Social Media   \n...                           ...                             ...   \n1177                           NO                         Dancing   \n1178                           NO              Listening to music   \n1179                           NO                   Online gaming   \n1180                           NO                   Reading books   \n1181                           NO                         Talking   \n\n     Time utilized  \\\n0              YES   \n1              YES   \n2               NO   \n3               NO   \n4               NO   \n...            ...   \n1177           YES   \n1178           YES   \n1179            NO   \n1180           YES   \n1181           YES   \n\n     Do you find yourself more connected with your family, close friends , relatives  ?  \\\n0                                                   YES                                   \n1                                                    NO                                   \n2                                                   YES                                   \n3                                                    NO                                   \n4                                                    NO                                   \n...                                                 ...                                   \n1177                                                YES                                   \n1178                                                YES                                   \n1179                                                YES                                   \n1180                                                YES                                   \n1181                                                YES                                   \n\n     What you miss the most         Age Category  \n0            School/college       Older students  \n1     Roaming around freely       Older students  \n2                Travelling     Younger students  \n3       Friends , relatives     Younger students  \n4                Travelling       Older students  \n...                     ...                  ...  \n1177             Travelling  Younger adolescents  \n1178    Friends , relatives  Younger adolescents  \n1179         School/college  Younger adolescents  \n1180         School/college  Younger adolescents  \n1181         School/college  Younger adolescents  \n\n[983 rows x 20 columns]",
      "text/html": "<div>\n<style scoped>\n    .dataframe tbody tr th:only-of-type {\n        vertical-align: middle;\n    }\n\n    .dataframe tbody tr th {\n        vertical-align: top;\n    }\n\n    .dataframe thead th {\n        text-align: right;\n    }\n</style>\n<table border=\"1\" class=\"dataframe\">\n  <thead>\n    <tr style=\"text-align: right;\">\n      <th></th>\n      <th>ID</th>\n      <th>Region of residence</th>\n      <th>Age of Subject</th>\n      <th>Time spent on Online Class</th>\n      <th>Rating of Online Class experience</th>\n      <th>Medium for online class</th>\n      <th>Time spent on self study</th>\n      <th>Time spent on fitness</th>\n      <th>Time spent on sleep</th>\n      <th>Time spent on social media</th>\n      <th>Prefered social media platform</th>\n      <th>Time spent on TV</th>\n      <th>Number of meals per day</th>\n      <th>Change in your weight</th>\n      <th>Health issue during lockdown</th>\n      <th>Stress busters</th>\n      <th>Time utilized</th>\n      <th>Do you find yourself more connected with your family, close friends , relatives  ?</th>\n      <th>What you miss the most</th>\n      <th>Age Category</th>\n    </tr>\n  </thead>\n  <tbody>\n    <tr>\n      <th>0</th>\n      <td>R1</td>\n      <td>Delhi-NCR</td>\n      <td>21</td>\n      <td>2.0</td>\n      <td>Good</td>\n      <td>Laptop/Desktop</td>\n      <td>4.0</td>\n      <td>0.0</td>\n      <td>7.0</td>\n      <td>3.0</td>\n      <td>Linkedin</td>\n      <td>1</td>\n      <td>4</td>\n      <td>Increased</td>\n      <td>NO</td>\n      <td>Cooking</td>\n      <td>YES</td>\n      <td>YES</td>\n      <td>School/college</td>\n      <td>Older students</td>\n    </tr>\n    <tr>\n      <th>1</th>\n      <td>R2</td>\n      <td>Delhi-NCR</td>\n      <td>21</td>\n      <td>0.0</td>\n      <td>Excellent</td>\n      <td>Smartphone</td>\n      <td>0.0</td>\n      <td>2.0</td>\n      <td>10.0</td>\n      <td>3.0</td>\n      <td>Youtube</td>\n      <td>0</td>\n      <td>3</td>\n      <td>Decreased</td>\n      <td>NO</td>\n      <td>Scrolling through social media</td>\n      <td>YES</td>\n      <td>NO</td>\n      <td>Roaming around freely</td>\n      <td>Older students</td>\n    </tr>\n    <tr>\n      <th>2</th>\n      <td>R3</td>\n      <td>Delhi-NCR</td>\n      <td>20</td>\n      <td>7.0</td>\n      <td>Very poor</td>\n      <td>Laptop/Desktop</td>\n      <td>3.0</td>\n      <td>0.0</td>\n      <td>6.0</td>\n      <td>2.0</td>\n      <td>Linkedin</td>\n      <td>0</td>\n      <td>3</td>\n      <td>Remain Constant</td>\n      <td>NO</td>\n      <td>Listening to music</td>\n      <td>NO</td>\n      <td>YES</td>\n      <td>Travelling</td>\n      <td>Younger students</td>\n    </tr>\n    <tr>\n      <th>3</th>\n      <td>R4</td>\n      <td>Delhi-NCR</td>\n      <td>20</td>\n      <td>3.0</td>\n      <td>Very poor</td>\n      <td>Smartphone</td>\n      <td>2.0</td>\n      <td>1.0</td>\n      <td>6.0</td>\n      <td>5.0</td>\n      <td>Instagram</td>\n      <td>0</td>\n      <td>3</td>\n      <td>Decreased</td>\n      <td>NO</td>\n      <td>Watching web series</td>\n      <td>NO</td>\n      <td>NO</td>\n      <td>Friends , relatives</td>\n      <td>Younger students</td>\n    </tr>\n    <tr>\n      <th>4</th>\n      <td>R5</td>\n      <td>Delhi-NCR</td>\n      <td>21</td>\n      <td>3.0</td>\n      <td>Good</td>\n      <td>Laptop/Desktop</td>\n      <td>3.0</td>\n      <td>1.0</td>\n      <td>8.0</td>\n      <td>3.0</td>\n      <td>Instagram</td>\n      <td>1</td>\n      <td>4</td>\n      <td>Remain Constant</td>\n      <td>NO</td>\n      <td>Social Media</td>\n      <td>NO</td>\n      <td>NO</td>\n      <td>Travelling</td>\n      <td>Older students</td>\n    </tr>\n    <tr>\n      <th>...</th>\n      <td>...</td>\n      <td>...</td>\n      <td>...</td>\n      <td>...</td>\n      <td>...</td>\n      <td>...</td>\n      <td>...</td>\n      <td>...</td>\n      <td>...</td>\n      <td>...</td>\n      <td>...</td>\n      <td>...</td>\n      <td>...</td>\n      <td>...</td>\n      <td>...</td>\n      <td>...</td>\n      <td>...</td>\n      <td>...</td>\n      <td>...</td>\n      <td>...</td>\n    </tr>\n    <tr>\n      <th>1177</th>\n      <td>R1191</td>\n      <td>Delhi-NCR</td>\n      <td>12</td>\n      <td>3.0</td>\n      <td>Good</td>\n      <td>Smartphone</td>\n      <td>4.0</td>\n      <td>1.0</td>\n      <td>8.0</td>\n      <td>1.0</td>\n      <td>Instagram</td>\n      <td>2</td>\n      <td>3</td>\n      <td>Decreased</td>\n      <td>NO</td>\n      <td>Dancing</td>\n      <td>YES</td>\n      <td>YES</td>\n      <td>Travelling</td>\n      <td>Younger adolescents</td>\n    </tr>\n    <tr>\n      <th>1178</th>\n      <td>R1192</td>\n      <td>Delhi-NCR</td>\n      <td>14</td>\n      <td>6.0</td>\n      <td>Average</td>\n      <td>Smartphone</td>\n      <td>4.0</td>\n      <td>1.0</td>\n      <td>9.0</td>\n      <td>1.0</td>\n      <td>Whatsapp</td>\n      <td>1</td>\n      <td>4</td>\n      <td>Remain Constant</td>\n      <td>NO</td>\n      <td>Listening to music</td>\n      <td>YES</td>\n      <td>YES</td>\n      <td>Friends , relatives</td>\n      <td>Younger adolescents</td>\n    </tr>\n    <tr>\n      <th>1179</th>\n      <td>R1193</td>\n      <td>Delhi-NCR</td>\n      <td>13</td>\n      <td>4.0</td>\n      <td>Average</td>\n      <td>Smartphone</td>\n      <td>0.0</td>\n      <td>0.5</td>\n      <td>8.0</td>\n      <td>3.0</td>\n      <td>Youtube</td>\n      <td>2</td>\n      <td>4</td>\n      <td>Decreased</td>\n      <td>NO</td>\n      <td>Online gaming</td>\n      <td>NO</td>\n      <td>YES</td>\n      <td>School/college</td>\n      <td>Younger adolescents</td>\n    </tr>\n    <tr>\n      <th>1180</th>\n      <td>R1194</td>\n      <td>Delhi-NCR</td>\n      <td>14</td>\n      <td>5.0</td>\n      <td>Excellent</td>\n      <td>Laptop/Desktop</td>\n      <td>3.5</td>\n      <td>1.0</td>\n      <td>8.0</td>\n      <td>0.5</td>\n      <td>Youtube</td>\n      <td>1</td>\n      <td>4</td>\n      <td>Remain Constant</td>\n      <td>NO</td>\n      <td>Reading books</td>\n      <td>YES</td>\n      <td>YES</td>\n      <td>School/college</td>\n      <td>Younger adolescents</td>\n    </tr>\n    <tr>\n      <th>1181</th>\n      <td>R1195</td>\n      <td>Delhi-NCR</td>\n      <td>13</td>\n      <td>5.0</td>\n      <td>Good</td>\n      <td>Tablet</td>\n      <td>2.0</td>\n      <td>0.5</td>\n      <td>7.0</td>\n      <td>1.0</td>\n      <td>Whatsapp</td>\n      <td>1</td>\n      <td>3</td>\n      <td>Remain Constant</td>\n      <td>NO</td>\n      <td>Talking</td>\n      <td>YES</td>\n      <td>YES</td>\n      <td>School/college</td>\n      <td>Younger adolescents</td>\n    </tr>\n  </tbody>\n</table>\n<p>983 rows × 20 columns</p>\n</div>"
     },
     "execution_count": 314,
     "metadata": {},
     "output_type": "execute_result"
    }
   ],
   "source": [
    "df = pd.DataFrame(dataset[\n",
    "                      (12 <= dataset['Age of Subject'])\n",
    "                    & (dataset['Age of Subject'] < 23)\n",
    "                  ])\n",
    "\n",
    "def get_age_category(age: int):\n",
    "    if 12 <= age < 16:\n",
    "        return 'Younger adolescents'\n",
    "    elif 16 <= age < 19:\n",
    "        return 'Older adolescents'\n",
    "    elif 19 <= age < 21:\n",
    "        return 'Younger students'\n",
    "    elif 21 <= age < 23:\n",
    "        return 'Older students'\n",
    "    return 'NA'\n",
    "\n",
    "age_categories = ['Younger adolescents', 'Older adolescents', 'Younger students', 'Older students']\n",
    "df['Age Category'] = pd.Categorical(df['Age of Subject'].map(get_age_category), categories=age_categories, ordered=True)\n",
    "\n",
    "df"
   ]
  },
  {
   "cell_type": "code",
   "execution_count": 315,
   "outputs": [
    {
     "name": "stdout",
     "output_type": "stream",
     "text": [
      "ID                                                                                     0\n",
      "Region of residence                                                                    0\n",
      "Age of Subject                                                                         0\n",
      "Time spent on Online Class                                                             0\n",
      "Rating of Online Class experience                                                     17\n",
      "Medium for online class                                                               38\n",
      "Time spent on self study                                                               0\n",
      "Time spent on fitness                                                                  0\n",
      "Time spent on sleep                                                                    0\n",
      "Time spent on social media                                                             0\n",
      "Prefered social media platform                                                         0\n",
      "Time spent on TV                                                                       0\n",
      "Number of meals per day                                                                0\n",
      "Change in your weight                                                                  0\n",
      "Health issue during lockdown                                                           0\n",
      "Stress busters                                                                         0\n",
      "Time utilized                                                                          0\n",
      "Do you find yourself more connected with your family, close friends , relatives  ?     0\n",
      "What you miss the most                                                                 0\n",
      "Age Category                                                                           0\n",
      "dtype: int64\n"
     ]
    }
   ],
   "source": [
    "print(df.isna().sum())"
   ],
   "metadata": {
    "collapsed": false,
    "pycharm": {
     "name": "#%%\n"
    }
   }
  },
  {
   "cell_type": "code",
   "execution_count": 316,
   "outputs": [
    {
     "data": {
      "text/plain": "Older students         16\nYounger students        9\nOlder adolescents       8\nYounger adolescents     5\nName: Age Category, dtype: int64"
     },
     "execution_count": 316,
     "metadata": {},
     "output_type": "execute_result"
    }
   ],
   "source": [
    "df[df.isna().any(axis=1)]['Age Category'].value_counts()"
   ],
   "metadata": {
    "collapsed": false,
    "pycharm": {
     "name": "#%%\n"
    }
   }
  },
  {
   "cell_type": "code",
   "execution_count": 317,
   "outputs": [],
   "source": [
    "df.dropna(axis=0, inplace=True)"
   ],
   "metadata": {
    "collapsed": false,
    "pycharm": {
     "name": "#%%\n"
    }
   }
  },
  {
   "cell_type": "code",
   "execution_count": 318,
   "outputs": [
    {
     "data": {
      "text/plain": "False"
     },
     "execution_count": 318,
     "metadata": {},
     "output_type": "execute_result"
    }
   ],
   "source": [
    "df['ID'].duplicated().any()"
   ],
   "metadata": {
    "collapsed": false,
    "pycharm": {
     "name": "#%%\n"
    }
   }
  },
  {
   "cell_type": "code",
   "execution_count": 319,
   "outputs": [
    {
     "data": {
      "text/plain": "ID                                                                                      object\nRegion of residence                                                                     object\nAge of Subject                                                                           int64\nTime spent on Online Class                                                             float64\nRating of Online Class experience                                                       object\nMedium for online class                                                                 object\nTime spent on self study                                                               float64\nTime spent on fitness                                                                  float64\nTime spent on sleep                                                                    float64\nTime spent on social media                                                             float64\nPrefered social media platform                                                          object\nTime spent on TV                                                                        object\nNumber of meals per day                                                                  int64\nChange in your weight                                                                   object\nHealth issue during lockdown                                                            object\nStress busters                                                                          object\nTime utilized                                                                           object\nDo you find yourself more connected with your family, close friends , relatives  ?      object\nWhat you miss the most                                                                  object\nAge Category                                                                          category\ndtype: object"
     },
     "execution_count": 319,
     "metadata": {},
     "output_type": "execute_result"
    }
   ],
   "source": [
    "df.dtypes"
   ],
   "metadata": {
    "collapsed": false,
    "pycharm": {
     "name": "#%%\n"
    }
   }
  },
  {
   "cell_type": "code",
   "execution_count": 320,
   "outputs": [
    {
     "data": {
      "text/plain": "18          n\n106         N\n111         N\n194     No tv\n269         N\n282         N\n545     No tv\n616          \n751          \n1040        N\nName: Time spent on TV, dtype: object"
     },
     "execution_count": 320,
     "metadata": {},
     "output_type": "execute_result"
    }
   ],
   "source": [
    "def is_number(element: str):\n",
    "    return sum(map(lambda c: c.isnumeric() or c == '.', element)) == len(element) and len(element) != 0\n",
    "\n",
    "notnum_mask = ~df['Time spent on TV'].map(is_number)\n",
    "df['Time spent on TV'][notnum_mask]"
   ],
   "metadata": {
    "collapsed": false,
    "pycharm": {
     "name": "#%%\n"
    }
   }
  },
  {
   "cell_type": "code",
   "execution_count": 321,
   "outputs": [],
   "source": [
    "df['Time spent on TV'] = pd.to_numeric(df['Time spent on TV'], errors='coerce').fillna(0)"
   ],
   "metadata": {
    "collapsed": false,
    "pycharm": {
     "name": "#%%\n"
    }
   }
  },
  {
   "cell_type": "code",
   "execution_count": 322,
   "outputs": [
    {
     "data": {
      "text/plain": "array(['Good', 'Excellent', 'Very poor', 'Average', 'Poor'], dtype=object)"
     },
     "execution_count": 322,
     "metadata": {},
     "output_type": "execute_result"
    }
   ],
   "source": [
    "df['Rating of Online Class experience'].unique()"
   ],
   "metadata": {
    "collapsed": false,
    "pycharm": {
     "name": "#%%\n"
    }
   }
  },
  {
   "cell_type": "code",
   "execution_count": 323,
   "outputs": [],
   "source": [
    "rating_categories = ['Very poor', 'Poor', 'Average', 'Good', 'Excellent']\n",
    "df['Rating of Online Class experience'] = df['Rating of Online Class experience'].astype(pd.CategoricalDtype(rating_categories , ordered=True))"
   ],
   "metadata": {
    "collapsed": false,
    "pycharm": {
     "name": "#%%\n"
    }
   }
  },
  {
   "cell_type": "code",
   "execution_count": 324,
   "outputs": [
    {
     "data": {
      "text/plain": "<AxesSubplot:xlabel='Rating of Online Class experience'>"
     },
     "execution_count": 324,
     "metadata": {},
     "output_type": "execute_result"
    },
    {
     "data": {
      "text/plain": "<Figure size 864x720 with 1 Axes>",
      "image/png": "[encoded data removed]"
     },
     "metadata": {
      "needs_background": "light"
     },
     "output_type": "display_data"
    }
   ],
   "source": [
    "df\\\n",
    "    .groupby(['Age Category', 'Rating of Online Class experience'])\\\n",
    "    .size()\\\n",
    "    .unstack(0)\\\n",
    "    .plot(figsize=(12, 10), kind='bar')"
   ],
   "metadata": {
    "collapsed": false,
    "pycharm": {
     "name": "#%%\n"
    }
   }
  },
  {
   "cell_type": "code",
   "execution_count": 324,
   "outputs": [],
   "source": [],
   "metadata": {
    "collapsed": false,
    "pycharm": {
     "name": "#%%\n"
    }
   }
  }
 ],
 "metadata": {
  "kernelspec": {
   "display_name": "Python 3 (ipykernel)",
   "language": "python",
   "name": "python3"
  },
  "language_info": {
   "codemirror_mode": {
    "name": "ipython",
    "version": 3
   },
   "file_extension": ".py",
   "mimetype": "text/x-python",
   "name": "python",
   "nbconvert_exporter": "python",
   "pygments_lexer": "ipython3",
   "version": "3.9.7"
  }
 },
 "nbformat": 4,
 "nbformat_minor": 5
}